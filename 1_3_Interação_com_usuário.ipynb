{
  "nbformat": 4,
  "nbformat_minor": 0,
  "metadata": {
    "colab": {
      "provenance": []
    },
    "kernelspec": {
      "name": "python3",
      "display_name": "Python 3"
    },
    "language_info": {
      "name": "python"
    }
  },
  "cells": [
    {
      "cell_type": "markdown",
      "source": [
        "#Conteúdo\n",
        "##Subtitulo\n",
        "\n",
        "`> Aprendendo a útilizar comandos como: *Print*, *Type* e *Input*`"
      ],
      "metadata": {
        "id": "C-KVFXMMoEgl"
      }
    },
    {
      "cell_type": "markdown",
      "source": [],
      "metadata": {
        "id": "UaavU6hTooA4"
      }
    },
    {
      "cell_type": "markdown",
      "source": [
        "#Visualização de Variaveis e textos"
      ],
      "metadata": {
        "id": "DUAM4-YKo4Rf"
      }
    },
    {
      "cell_type": "code",
      "source": [
        "print('Conhecendo o comando Print')\n",
        "\n",
        "x = 8\n",
        "print(x)"
      ],
      "metadata": {
        "colab": {
          "base_uri": "https://localhost:8080/"
        },
        "id": "GxlRpOnvo_QN",
        "outputId": "abec6c89-d271-4f37-e515-f1cabd9b6143"
      },
      "execution_count": null,
      "outputs": [
        {
          "output_type": "stream",
          "name": "stdout",
          "text": [
            "Conhecendo o comando Print\n",
            "8\n"
          ]
        }
      ]
    },
    {
      "cell_type": "code",
      "source": [
        "y = 10\n",
        "soma = x + y\n",
        "print(soma)\n"
      ],
      "metadata": {
        "colab": {
          "base_uri": "https://localhost:8080/"
        },
        "id": "V0YJQw2YqZZo",
        "outputId": "096e4884-a89a-4f5a-83f7-923da459418f"
      },
      "execution_count": null,
      "outputs": [
        {
          "output_type": "stream",
          "name": "stdout",
          "text": [
            "18\n"
          ]
        }
      ]
    },
    {
      "cell_type": "code",
      "source": [
        "nome = 'Rodrigo Rebouças'\n",
        "print(nome)\n"
      ],
      "metadata": {
        "colab": {
          "base_uri": "https://localhost:8080/"
        },
        "id": "tfWH_kGdrbkw",
        "outputId": "aceb4ddb-2839-47d4-d2a7-59459bc36218"
      },
      "execution_count": null,
      "outputs": [
        {
          "output_type": "stream",
          "name": "stdout",
          "text": [
            "Rodrigo Rebouças\n"
          ]
        }
      ]
    },
    {
      "cell_type": "markdown",
      "source": [
        " > `Concatenação`"
      ],
      "metadata": {
        "id": "-BArse4lthnd"
      }
    },
    {
      "cell_type": "code",
      "source": [
        "x = 5\n",
        "print('O valor de x é', x)\n"
      ],
      "metadata": {
        "id": "NpepvY0ntq30",
        "colab": {
          "base_uri": "https://localhost:8080/"
        },
        "outputId": "f3f3908a-0d2d-41c3-f79a-6b07371b74aa"
      },
      "execution_count": null,
      "outputs": [
        {
          "output_type": "stream",
          "name": "stdout",
          "text": [
            "O valor de x é 5\n"
          ]
        }
      ]
    },
    {
      "cell_type": "code",
      "source": [
        "print('O valor de x é', x, 'e o dobro é', x * 2)"
      ],
      "metadata": {
        "colab": {
          "base_uri": "https://localhost:8080/"
        },
        "id": "fZmkKy7YuJlx",
        "outputId": "7a93beb3-ee88-45f5-8b10-ef6800cc3f02"
      },
      "execution_count": null,
      "outputs": [
        {
          "output_type": "stream",
          "name": "stdout",
          "text": [
            "O valor de x é 5 e o dobro é 10\n"
          ]
        }
      ]
    },
    {
      "cell_type": "code",
      "source": [
        "print('Eu,', nome,'tirei', x, 'na prova de Python') #vermelho - texto no print || preto variavel declarada"
      ],
      "metadata": {
        "colab": {
          "base_uri": "https://localhost:8080/"
        },
        "id": "gFmxBKAKuqck",
        "outputId": "bffeb3d7-533e-438d-991c-1c67e1c406ab"
      },
      "execution_count": null,
      "outputs": [
        {
          "output_type": "stream",
          "name": "stdout",
          "text": [
            "Eu, Rodrigo Rebouças tirei 5 na prova de Python\n"
          ]
        }
      ]
    },
    {
      "cell_type": "code",
      "source": [
        "y = 10; z = 20 + x - y\n",
        "print('Declarar várias variáveis na mesma linha: ' 'Y =', y,'Z =', z)"
      ],
      "metadata": {
        "colab": {
          "base_uri": "https://localhost:8080/"
        },
        "id": "0lga0b-zwLW6",
        "outputId": "1208f4fe-5c8d-448d-adff-913c03e7e920"
      },
      "execution_count": null,
      "outputs": [
        {
          "output_type": "stream",
          "name": "stdout",
          "text": [
            "Declarar várias variáveis na mesma linha: Y = 10 Z = 15\n"
          ]
        }
      ]
    },
    {
      "cell_type": "markdown",
      "source": [
        "> `Type`\n",
        "\n"
      ],
      "metadata": {
        "id": "2qd4861jyzx4"
      }
    },
    {
      "cell_type": "code",
      "source": [
        "x = 10\n",
        "type(x)\n",
        "print('x', type(x))\n",
        "\n",
        "nome = 'Rodrigo Rebouças'\n",
        "print(nome, type(nome))\n",
        "\n",
        "num = '100'\n",
        "num_convert = int(num)\n",
        "print('num_convert', type(num_convert))\n",
        "\n",
        "num_flot = float(num)\n",
        "print('num_float', num_flot)"
      ],
      "metadata": {
        "id": "PzyWw-t8zK-g"
      },
      "execution_count": null,
      "outputs": []
    },
    {
      "cell_type": "markdown",
      "source": [
        "> `Input`\n",
        "\n",
        "\n",
        "*   Armazenar a informação digitada pelo usuário em uma variável\n",
        "*   O dado armazenado sempre sera um texto\n",
        "\n"
      ],
      "metadata": {
        "id": "FL0Uj_X31i2h"
      }
    },
    {
      "cell_type": "code",
      "source": [
        "nome = input('Digite o nome do usuário ') #aguardar o usuario digitar algo\n",
        "print(nome)\n"
      ],
      "metadata": {
        "colab": {
          "base_uri": "https://localhost:8080/"
        },
        "id": "s8j7lRmr3tlL",
        "outputId": "13be12d0-c47f-44e2-e66e-48b234b081b6"
      },
      "execution_count": null,
      "outputs": [
        {
          "output_type": "stream",
          "name": "stdout",
          "text": [
            "Digite o nome do usuário Jacquelline\n",
            "Jacquelline\n"
          ]
        }
      ]
    },
    {
      "cell_type": "code",
      "source": [
        "valor = input('Digite a nota ')\n",
        "print(nome, 'sua noita foi: ', valor )"
      ],
      "metadata": {
        "colab": {
          "base_uri": "https://localhost:8080/"
        },
        "id": "KQ2LVnLX4I4x",
        "outputId": "5743d5ef-a2e0-429a-f9af-9c053f8422fa"
      },
      "execution_count": null,
      "outputs": [
        {
          "output_type": "stream",
          "name": "stdout",
          "text": [
            "Digite a nota 5,5\n",
            "Jacquelline sua noita foi:  5,5\n"
          ]
        }
      ]
    },
    {
      "cell_type": "code",
      "source": [
        "valor = input('Digite o valor do produto: ')\n",
        "print('R$', valor,'.00')\n"
      ],
      "metadata": {
        "colab": {
          "base_uri": "https://localhost:8080/"
        },
        "id": "T772aSI-4u3S",
        "outputId": "55696cbf-824e-404d-bd8b-d09ff97b92d9"
      },
      "execution_count": null,
      "outputs": [
        {
          "output_type": "stream",
          "name": "stdout",
          "text": [
            "Digite o valor do produto: 150\n",
            "R$ 150 .00\n"
          ]
        }
      ]
    },
    {
      "cell_type": "code",
      "source": [
        "desconto = valor - 5 #erro ja esperado pq estamos trabalhando com strig e precisa converter codigo abaixo"
      ],
      "metadata": {
        "colab": {
          "base_uri": "https://localhost:8080/",
          "height": 141
        },
        "id": "8Z8AC-0B6KN4",
        "outputId": "a493156b-b9fc-47a8-ce96-0b4fa70809e0"
      },
      "execution_count": null,
      "outputs": [
        {
          "output_type": "error",
          "ename": "TypeError",
          "evalue": "unsupported operand type(s) for -: 'str' and 'int'",
          "traceback": [
            "\u001b[0;31m---------------------------------------------------------------------------\u001b[0m",
            "\u001b[0;31mTypeError\u001b[0m                                 Traceback (most recent call last)",
            "\u001b[0;32m<ipython-input-21-4693ea9a50ed>\u001b[0m in \u001b[0;36m<cell line: 0>\u001b[0;34m()\u001b[0m\n\u001b[0;32m----> 1\u001b[0;31m \u001b[0mdesconto\u001b[0m \u001b[0;34m=\u001b[0m \u001b[0mvalor\u001b[0m \u001b[0;34m-\u001b[0m \u001b[0;36m5\u001b[0m\u001b[0;34m\u001b[0m\u001b[0;34m\u001b[0m\u001b[0m\n\u001b[0m",
            "\u001b[0;31mTypeError\u001b[0m: unsupported operand type(s) for -: 'str' and 'int'"
          ]
        }
      ]
    },
    {
      "cell_type": "code",
      "source": [
        "valor_convet = float(valor)\n",
        "desconto = valor_convet - 5\n",
        "print(desconto)"
      ],
      "metadata": {
        "colab": {
          "base_uri": "https://localhost:8080/"
        },
        "id": "l2PRRaTF6XgY",
        "outputId": "60b6418e-9d71-4aaa-b576-b9bf2a04d5a1"
      },
      "execution_count": null,
      "outputs": [
        {
          "output_type": "stream",
          "name": "stdout",
          "text": [
            "145.0\n"
          ]
        }
      ]
    },
    {
      "cell_type": "code",
      "source": [
        "desconto = int(valor) - 5\n",
        "print(desconto)"
      ],
      "metadata": {
        "colab": {
          "base_uri": "https://localhost:8080/"
        },
        "id": "eksHBcUpVDoB",
        "outputId": "1d991d17-e480-4883-a4b4-029503e39d05"
      },
      "execution_count": null,
      "outputs": [
        {
          "output_type": "stream",
          "name": "stdout",
          "text": [
            "145\n"
          ]
        }
      ]
    },
    {
      "cell_type": "markdown",
      "source": [
        "> `Testar exemplos de modelo`"
      ],
      "metadata": {
        "id": "xxKlkrHkWoYF"
      }
    },
    {
      "cell_type": "code",
      "source": [
        "nome = input('Digite seu nome:')\n",
        "idade = input(\"Digite sua idade: \")\n",
        "cidade = input('Cidade em que mora: ')\n",
        "curso = input('Digite seu curso: ')\n",
        "print('Ola, me chamo', nome, 'tenho', idade, 'anos, moro na cidade de ',cidade, 'atualmente estou cursando', curso)\n"
      ],
      "metadata": {
        "colab": {
          "base_uri": "https://localhost:8080/"
        },
        "id": "btR3YtdvWuu9",
        "outputId": "bdb986dc-2a7c-4585-e8fe-f072d584dce4"
      },
      "execution_count": null,
      "outputs": [
        {
          "output_type": "stream",
          "name": "stdout",
          "text": [
            "Digite seu nome:Jacquelline Rodrigues\n",
            "Digite sua idade: 33\n",
            "Cidade em que mora: São Paulo\n",
            "Digite seu curso: Analista de Sistemas\n",
            "Ola, me chamo Jacquelline Rodrigues tenho 33 anos, moro na cidade de  São Paulo atualmente estou cursando Analista de Sistemas\n"
          ]
        }
      ]
    },
    {
      "cell_type": "markdown",
      "source": [
        ">>> `CONSEGUI!!!! ❤`"
      ],
      "metadata": {
        "id": "RMIyN2t5aaAr"
      }
    }
  ]
}