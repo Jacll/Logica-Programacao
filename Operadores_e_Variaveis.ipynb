{
  "nbformat": 4,
  "nbformat_minor": 0,
  "metadata": {
    "colab": {
      "provenance": [],
      "collapsed_sections": [
        "GqT2zbo02up8",
        "oBYXjieZ3MAR",
        "Dldu4MkR_h8G",
        "pkV931iFA4PG"
      ]
    },
    "kernelspec": {
      "name": "python3",
      "display_name": "Python 3"
    },
    "language_info": {
      "name": "python"
    }
  },
  "cells": [
    {
      "cell_type": "markdown",
      "source": [
        "#Documentação sobre Operadores\n",
        "---\n",
        "\n",
        "##Subtitulo\n",
        "`*Aprendendo a utilizar operadores em Python*`"
      ],
      "metadata": {
        "id": "2GLPJQwt1kql"
      }
    },
    {
      "cell_type": "markdown",
      "source": [
        "#Operadores Aritmeticos"
      ],
      "metadata": {
        "id": "GqT2zbo02up8"
      }
    },
    {
      "cell_type": "code",
      "source": [
        "#Adição\n",
        "10+2"
      ],
      "metadata": {
        "colab": {
          "base_uri": "https://localhost:8080/"
        },
        "id": "Q6vsG04K3TzC",
        "outputId": "d5054312-5147-4d59-8207-a9cc49d35dfe"
      },
      "execution_count": null,
      "outputs": [
        {
          "output_type": "execute_result",
          "data": {
            "text/plain": [
              "12"
            ]
          },
          "metadata": {},
          "execution_count": 1
        }
      ]
    },
    {
      "cell_type": "code",
      "source": [
        "#Subtração\n",
        "10-2"
      ],
      "metadata": {
        "colab": {
          "base_uri": "https://localhost:8080/"
        },
        "id": "CYfQrb019iMA",
        "outputId": "1fa8554a-da98-406d-a7c9-b64d44d94fbd"
      },
      "execution_count": null,
      "outputs": [
        {
          "output_type": "execute_result",
          "data": {
            "text/plain": [
              "8"
            ]
          },
          "metadata": {},
          "execution_count": 2
        }
      ]
    },
    {
      "cell_type": "code",
      "source": [
        "#Multiplicação\n",
        "10*2"
      ],
      "metadata": {
        "colab": {
          "base_uri": "https://localhost:8080/"
        },
        "id": "WmWzYdVb9qHI",
        "outputId": "6811a0c6-b767-4483-b2eb-dc334c6f8eb7"
      },
      "execution_count": null,
      "outputs": [
        {
          "output_type": "execute_result",
          "data": {
            "text/plain": [
              "20"
            ]
          },
          "metadata": {},
          "execution_count": 3
        }
      ]
    },
    {
      "cell_type": "code",
      "source": [
        "#Divisão\n",
        "10/2"
      ],
      "metadata": {
        "colab": {
          "base_uri": "https://localhost:8080/"
        },
        "id": "70LJxN-89w1d",
        "outputId": "173e903f-3258-4426-a9fc-5e680d406388"
      },
      "execution_count": null,
      "outputs": [
        {
          "output_type": "execute_result",
          "data": {
            "text/plain": [
              "5.0"
            ]
          },
          "metadata": {},
          "execution_count": 4
        }
      ]
    },
    {
      "cell_type": "code",
      "source": [
        "#Divisão Inteira\n",
        "10//2"
      ],
      "metadata": {
        "colab": {
          "base_uri": "https://localhost:8080/"
        },
        "id": "dj7ZWXhB95so",
        "outputId": "d1fabcf3-8087-4a29-c62d-2e1ba33a7da2"
      },
      "execution_count": null,
      "outputs": [
        {
          "output_type": "execute_result",
          "data": {
            "text/plain": [
              "5"
            ]
          },
          "metadata": {},
          "execution_count": 5
        }
      ]
    },
    {
      "cell_type": "code",
      "source": [
        "#Resto da Divisão\n",
        "10%2"
      ],
      "metadata": {
        "colab": {
          "base_uri": "https://localhost:8080/"
        },
        "id": "DbyTs6lk9_5y",
        "outputId": "fddbc97c-3599-4ebc-b83b-1116c3a9abaa"
      },
      "execution_count": null,
      "outputs": [
        {
          "output_type": "execute_result",
          "data": {
            "text/plain": [
              "0"
            ]
          },
          "metadata": {},
          "execution_count": 8
        }
      ]
    },
    {
      "cell_type": "code",
      "source": [
        "#Potenciação\n",
        "10**2"
      ],
      "metadata": {
        "colab": {
          "base_uri": "https://localhost:8080/"
        },
        "id": "T0Uurw9j-KYY",
        "outputId": "d69baa65-4d22-4595-acb8-322ca115e7cd"
      },
      "execution_count": null,
      "outputs": [
        {
          "output_type": "execute_result",
          "data": {
            "text/plain": [
              "100"
            ]
          },
          "metadata": {},
          "execution_count": 9
        }
      ]
    },
    {
      "cell_type": "markdown",
      "source": [
        "#Operadores Relacionais"
      ],
      "metadata": {
        "id": "oBYXjieZ3MAR"
      }
    },
    {
      "cell_type": "code",
      "source": [
        "#Menor\n",
        "10 < 2"
      ],
      "metadata": {
        "colab": {
          "base_uri": "https://localhost:8080/"
        },
        "id": "yv6SKPAO2bwt",
        "outputId": "a7f832d8-655f-461c-ab9e-3116421148a0"
      },
      "execution_count": null,
      "outputs": [
        {
          "output_type": "execute_result",
          "data": {
            "text/plain": [
              "False"
            ]
          },
          "metadata": {},
          "execution_count": 10
        }
      ]
    },
    {
      "cell_type": "code",
      "source": [
        "#Menor ou Igual\n",
        "10 <= 2"
      ],
      "metadata": {
        "colab": {
          "base_uri": "https://localhost:8080/"
        },
        "id": "emDurNfC-qNL",
        "outputId": "8aa390fa-90b7-4fba-f7bd-059b5258ab39"
      },
      "execution_count": null,
      "outputs": [
        {
          "output_type": "execute_result",
          "data": {
            "text/plain": [
              "False"
            ]
          },
          "metadata": {},
          "execution_count": 11
        }
      ]
    },
    {
      "cell_type": "code",
      "source": [
        "#Maior\n",
        "10 > 2"
      ],
      "metadata": {
        "colab": {
          "base_uri": "https://localhost:8080/"
        },
        "id": "wS8lhqxv_A69",
        "outputId": "abb10d9a-5b9d-4242-9801-8d1ca9d1fce9"
      },
      "execution_count": null,
      "outputs": [
        {
          "output_type": "execute_result",
          "data": {
            "text/plain": [
              "True"
            ]
          },
          "metadata": {},
          "execution_count": 12
        }
      ]
    },
    {
      "cell_type": "code",
      "source": [
        "#Maior ou Igual\n",
        "10 >= 2"
      ],
      "metadata": {
        "colab": {
          "base_uri": "https://localhost:8080/"
        },
        "id": "0pvvPWFN_EnD",
        "outputId": "8b56f077-0576-4a3e-80e7-d60f9fa24fe0"
      },
      "execution_count": null,
      "outputs": [
        {
          "output_type": "execute_result",
          "data": {
            "text/plain": [
              "True"
            ]
          },
          "metadata": {},
          "execution_count": 13
        }
      ]
    },
    {
      "cell_type": "code",
      "source": [
        "#Igual\n",
        "7 == 7"
      ],
      "metadata": {
        "colab": {
          "base_uri": "https://localhost:8080/"
        },
        "id": "52EB6a9t_KAg",
        "outputId": "e5da4c9b-6a28-46ed-9a3d-516d510e28f7"
      },
      "execution_count": null,
      "outputs": [
        {
          "output_type": "execute_result",
          "data": {
            "text/plain": [
              "True"
            ]
          },
          "metadata": {},
          "execution_count": 16
        }
      ]
    },
    {
      "cell_type": "code",
      "source": [
        "#Diferente\n",
        "7 != 7"
      ],
      "metadata": {
        "colab": {
          "base_uri": "https://localhost:8080/"
        },
        "id": "heaItbqg_UI4",
        "outputId": "042b35e8-78e5-4b70-b365-befe04ece2c8"
      },
      "execution_count": null,
      "outputs": [
        {
          "output_type": "execute_result",
          "data": {
            "text/plain": [
              "False"
            ]
          },
          "metadata": {},
          "execution_count": 19
        }
      ]
    },
    {
      "cell_type": "markdown",
      "source": [
        "#Operadores Lógicos"
      ],
      "metadata": {
        "id": "Dldu4MkR_h8G"
      }
    },
    {
      "cell_type": "markdown",
      "source": [
        "\n",
        "\n",
        "*   And ( E )\n",
        "*   Or ( OU )\n",
        "*   Not ( Não )\n",
        "\n",
        "\n",
        "\n",
        "\n"
      ],
      "metadata": {
        "id": "navtVsvCAptO"
      }
    },
    {
      "cell_type": "markdown",
      "source": [
        "#Tabela Verdade"
      ],
      "metadata": {
        "id": "pkV931iFA4PG"
      }
    },
    {
      "cell_type": "markdown",
      "source": [
        "**And**"
      ],
      "metadata": {
        "id": "sG1FEp-tA7Uv"
      }
    },
    {
      "cell_type": "code",
      "source": [
        "print(10 > 2 and 4 < 6) # V and V . V\n",
        "print(10 > 2 and 4 > 6) # F and V . F\n",
        "print(10 < 2 and 4 < 6) # F and F . V\n",
        "print(10 < 2 and 4 > 6) # F and F . V\n"
      ],
      "metadata": {
        "id": "4X8jHDJEBYUy",
        "colab": {
          "base_uri": "https://localhost:8080/"
        },
        "outputId": "587d82d1-322c-4762-a117-cf000e951caa"
      },
      "execution_count": null,
      "outputs": [
        {
          "output_type": "stream",
          "name": "stdout",
          "text": [
            "True\n",
            "False\n",
            "False\n",
            "False\n"
          ]
        }
      ]
    },
    {
      "cell_type": "markdown",
      "source": [
        "**OR**"
      ],
      "metadata": {
        "id": "ovCQCl1wI5Ca"
      }
    },
    {
      "cell_type": "code",
      "source": [
        "print(10 > 2 or 4 < 6) #V or V + V\n",
        "print(10 > 2 or 4 > 6) #V or V + F\n",
        "print(10 < 2 or 4 < 6) #V or F + V\n",
        "print(10 < 2 or 4 > 6) #F or F + F"
      ],
      "metadata": {
        "id": "npB9FLtcJFSN",
        "colab": {
          "base_uri": "https://localhost:8080/"
        },
        "outputId": "86f6a41d-3968-44a5-e3d0-50e9aff7f1c2"
      },
      "execution_count": null,
      "outputs": [
        {
          "output_type": "stream",
          "name": "stdout",
          "text": [
            "True\n",
            "True\n",
            "True\n",
            "False\n"
          ]
        }
      ]
    },
    {
      "cell_type": "markdown",
      "source": [
        "**NOT - Condição Invertida**"
      ],
      "metadata": {
        "id": "0pcP3QgDLNz0"
      }
    },
    {
      "cell_type": "code",
      "source": [
        "not 10 > 2 #V - F\n"
      ],
      "metadata": {
        "colab": {
          "base_uri": "https://localhost:8080/"
        },
        "id": "g5OK55uULQ17",
        "outputId": "a7519db5-b22c-4408-8c3b-61fa89b6d8be"
      },
      "execution_count": null,
      "outputs": [
        {
          "output_type": "execute_result",
          "data": {
            "text/plain": [
              "False"
            ]
          },
          "metadata": {},
          "execution_count": 28
        }
      ]
    },
    {
      "cell_type": "code",
      "source": [
        "not 10 < 2 #F - V"
      ],
      "metadata": {
        "colab": {
          "base_uri": "https://localhost:8080/"
        },
        "id": "saecjcL_MugE",
        "outputId": "9a8c3078-8791-4cea-a6f0-28f74d9eedd3"
      },
      "execution_count": null,
      "outputs": [
        {
          "output_type": "execute_result",
          "data": {
            "text/plain": [
              "True"
            ]
          },
          "metadata": {},
          "execution_count": 29
        }
      ]
    },
    {
      "cell_type": "markdown",
      "source": [
        "#Documentação Sobre Variaveis\n",
        "\n",
        "---\n",
        "\n",
        "##Subtítulo\n",
        "`Aprendendo Variaveis em Python`"
      ],
      "metadata": {
        "id": "X8WWzRaWn6sR"
      }
    },
    {
      "cell_type": "markdown",
      "source": [
        "#Variáveis\n",
        "`Variaveis estão alocadas em espaços da memória`"
      ],
      "metadata": {
        "id": "tV18dP6qojWm"
      }
    },
    {
      "cell_type": "code",
      "source": [
        "#Nome da Varíavel é \"x\" que armazena o valor 10 em um espaço da memória\n",
        "\n",
        "x = 10\n",
        "\n",
        "print(x) #Utilizar a referência no nome atribuido - Sempre se atentar na variavel que esta sendo escrita, maiuscula ou minuscula"
      ],
      "metadata": {
        "colab": {
          "base_uri": "https://localhost:8080/"
        },
        "id": "oKC1_S68o1mh",
        "outputId": "5d3c2637-d4d1-454e-9e0f-ba59bedf3d80"
      },
      "execution_count": null,
      "outputs": [
        {
          "output_type": "stream",
          "name": "stdout",
          "text": [
            "10\n"
          ]
        }
      ]
    },
    {
      "cell_type": "markdown",
      "source": [
        "*Regras*\n",
        "\n",
        "\n",
        "**Case sensitive**\n",
        "\n",
        "> A != a - Operador Relacíonal - A **diferente de** a\n",
        "\n",
        "\n",
        "**Boas Práticas com Variáveis**\n",
        "\n",
        "      Exemplo: Multiplicação de 2 números\n",
        "\n",
        "**Não Usar**\n",
        "*   Multiplicação\n",
        "*   MultiplicacaoDeDoisNumeros\n",
        "*   m\n",
        "\n",
        "**Usar**\n",
        "*   multiplicacao\n",
        "*   mult\n",
        "*   mult_total (snake_case)\n",
        "\n",
        "\n",
        "*Tipos de Variáveis*\n",
        "\n",
        "\n",
        "\n",
        "\n",
        "\n",
        "\n",
        "\n",
        "\n",
        "\n",
        "\n",
        "\n"
      ],
      "metadata": {
        "id": "lVr98eTwqRB2"
      }
    }
  ]
}