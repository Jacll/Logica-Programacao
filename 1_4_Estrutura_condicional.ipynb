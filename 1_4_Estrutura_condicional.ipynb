{
  "nbformat": 4,
  "nbformat_minor": 0,
  "metadata": {
    "colab": {
      "provenance": [],
      "collapsed_sections": [
        "huWJeHDzdJ_-",
        "ndedMjatdmiN",
        "zsgtD4gDifuN",
        "pwPMmcn3u5_h"
      ]
    },
    "kernelspec": {
      "name": "python3",
      "display_name": "Python 3"
    },
    "language_info": {
      "name": "python"
    }
  },
  "cells": [
    {
      "cell_type": "markdown",
      "source": [
        "#Dia 18 de Fevereiro de 2025 ✈\n",
        "`Iniciando casos com IF/ELSE/ELIF - Prestar muita **atenção** nesse topico - Principal do curso.`"
      ],
      "metadata": {
        "id": "huWJeHDzdJ_-"
      }
    },
    {
      "cell_type": "code",
      "source": [],
      "metadata": {
        "id": "RWgBtB-8doHk"
      },
      "execution_count": null,
      "outputs": []
    },
    {
      "cell_type": "markdown",
      "source": [
        "#Condicional"
      ],
      "metadata": {
        "id": "ndedMjatdmiN"
      }
    },
    {
      "cell_type": "markdown",
      "source": [
        "> `If - Se`\n",
        "\n",
        "> `Else - Se não`\n",
        "\n",
        "> `Elif - Se se não`\n"
      ],
      "metadata": {
        "id": "gluwhOYDeeUU"
      }
    },
    {
      "cell_type": "code",
      "source": [
        "#If / Else\n",
        "\n",
        "num1 = 10\n",
        "num2 = 5\n",
        "if num1 > num2:\n",
        "    print('O numero 1 é maior que o numero 2')\n",
        "else:\n",
        "    print('O numero 2 é maior que o numero 1')"
      ],
      "metadata": {
        "colab": {
          "base_uri": "https://localhost:8080/"
        },
        "id": "q-NEypQXeXm_",
        "outputId": "b80a1568-5c9d-43e9-e84a-5c97b9a3c0ae"
      },
      "execution_count": null,
      "outputs": [
        {
          "output_type": "stream",
          "name": "stdout",
          "text": [
            "O numero 1 é maior que o numero 2\n"
          ]
        }
      ]
    },
    {
      "cell_type": "markdown",
      "source": [
        "###### **Cuidado** com espaçamento antes das condições atribuidas no código."
      ],
      "metadata": {
        "id": "rz3k3VGNgZ8y"
      }
    },
    {
      "cell_type": "code",
      "source": [
        "#If / Elif / Else\n",
        "\n",
        "num1 = 10\n",
        "num2 = 10\n",
        "if num1 > num2:\n",
        "  print('O numero 1 é o maior numero')\n",
        "elif num1 < num2:\n",
        "  print('O numero 2 é o maior numero')\n",
        "else:\n",
        "  print('Os numeros são iguais')"
      ],
      "metadata": {
        "colab": {
          "base_uri": "https://localhost:8080/"
        },
        "id": "OEQy9mSxgy9R",
        "outputId": "f591e0d6-4f0f-46b8-c244-ec5431ecec13"
      },
      "execution_count": null,
      "outputs": [
        {
          "output_type": "stream",
          "name": "stdout",
          "text": [
            "Os numeros são iguais\n"
          ]
        }
      ]
    },
    {
      "cell_type": "markdown",
      "source": [
        "#Condicional com operadores lógicos"
      ],
      "metadata": {
        "id": "zsgtD4gDifuN"
      }
    },
    {
      "cell_type": "code",
      "source": [
        "num1 = 3\n",
        "num2 = 5\n",
        "num3 = 2\n",
        "if(num1 > num2) and (num1 > num3):\n",
        "  print('O numero 1 é o maior número')\n",
        "else:\n",
        " print('O numero 1 não é o maior valor')"
      ],
      "metadata": {
        "colab": {
          "base_uri": "https://localhost:8080/"
        },
        "id": "m713h1NTil8D",
        "outputId": "b2419f3c-58e7-4efc-8c14-4fb6bec28d51"
      },
      "execution_count": null,
      "outputs": [
        {
          "output_type": "stream",
          "name": "stdout",
          "text": [
            "O numero 1 não é o maior valor\n"
          ]
        }
      ]
    },
    {
      "cell_type": "markdown",
      "source": [
        "#Testando conhecimento"
      ],
      "metadata": {
        "id": "pwPMmcn3u5_h"
      }
    },
    {
      "cell_type": "markdown",
      "source": [
        "Exemplo Python para teste de aprendizado"
      ],
      "metadata": {
        "id": "ZTrISJNqfVmx"
      }
    },
    {
      "cell_type": "code",
      "source": [
        "nome = input('Digite seu nome: ')\n",
        "cidade = input('Digite sua cidade:')\n",
        "curso = input('Qual seu curso: ')\n",
        "print('Ola,', nome, 'é um prazer te conhecer. Você mora em ', cidade, 'e esta inicializando o curso',curso, 'aproveite sua jornada.')\n",
        "\n",
        "jogo = input('Quer participar de um jogo? yes/no ')\n",
        "\n",
        "cond1 = 'yes'\n",
        "cond2 = 'no'\n",
        "if jogo == cond1:\n",
        "  idade = input('Digite sua idade: ')\n",
        "  idade = int(idade)\n",
        "elif jogo == cond2: #essa fase cond2 não esta funcionando da forma correta.\n",
        "  print('Obrigada por participar')\n",
        "\n",
        "if idade < 12:\n",
        "    print('Voce é uma criança.')\n",
        "elif idade < 18:\n",
        "      print('Voce é um adolescente.')\n",
        "else:\n",
        "        print('Voce é um adulto.')\n",
        "\n",
        "jogo = input('Quer participar de outro jogo? yes/no ')\n",
        "if jogo == cond1:\n",
        "  num1 = int(input('Digite um numero:'))\n",
        "  num2 = int(input('Digite outro numero:'))\n",
        "  operador = input('Digite um operador + ou - :')\n",
        "  soma = num1 + num2\n",
        "  subt = num1 - num2\n",
        "if operador == '+':\n",
        "  print('A soma dos numeros é: ', soma)\n",
        "elif operador == '-':\n",
        "  print('A subtração dos numeros é:', subt)\n",
        "else:\n",
        "  print('Obrigada por participar.')\n",
        "  print('Até a proxima.')\n",
        "\n"
      ],
      "metadata": {
        "colab": {
          "base_uri": "https://localhost:8080/"
        },
        "id": "pFpR3tGNfbB2",
        "outputId": "c7b7053f-f73c-449e-d269-e013163f1b8f"
      },
      "execution_count": null,
      "outputs": [
        {
          "output_type": "stream",
          "name": "stdout",
          "text": [
            "Digite seu nome: Jacquelline Rodrigues Silva\n",
            "Digite sua cidade:São Paulo\n",
            "Qual seu curso: Analista de Dados\n",
            "Ola, Jacquelline Rodrigues Silva é um prazer te conhecer. Você mora em  São Paulo e esta inicializando o curso Analista de Dados aproveite sua jornada.\n",
            "Quer participar de um jogo? yes/no yes\n",
            "Digite sua idade: 33\n",
            "Voce é um adulto.\n",
            "Quer participar de outro jogo? yes/no yes\n",
            "Digite um numero:5\n",
            "Digite outro numero:6\n",
            "Digite um operador + ou - :+\n",
            "A soma dos numeros é:  11\n"
          ]
        }
      ]
    },
    {
      "cell_type": "code",
      "source": [],
      "metadata": {
        "id": "RPwgcXeiqVVH"
      },
      "execution_count": null,
      "outputs": []
    }
  ]
}